{
 "cells": [
  {
   "cell_type": "code",
   "execution_count": 1,
   "metadata": {},
   "outputs": [],
   "source": [
    "import sys\n",
    "import numpy as np\n",
    "from timeit import default_timer as timer\n",
    "\n",
    "import matplotlib.pyplot as plt\n",
    "import matplotlib.patches as patches\n",
    "import colorsys"
   ]
  },
  {
   "cell_type": "code",
   "execution_count": 3,
   "metadata": {},
   "outputs": [],
   "source": [
    "def load_pieces(filename):\n",
    "    pieces = []\n",
    "    with open(filename, 'r') as infile:\n",
    "        n_pieces = int(infile.readline().rstrip())\n",
    "        for piece_idndex in range(n_pieces):\n",
    "            newline = infile.readline()\n",
    "            while newline.startswith('#'):\n",
    "                newline = infile.readline()\n",
    "            y, x = [int(s) for s in newline.rstrip().split(' ')]\n",
    "            piece = []\n",
    "            for i in range(y):\n",
    "                row = [int(s) for s in infile.readline().rstrip().split(' ')]\n",
    "                piece.append(row)\n",
    "            pieces.append(np.array(piece, dtype=np.int32))\n",
    "    return pieces"
   ]
  },
  {
   "cell_type": "code",
   "execution_count": 5,
   "metadata": {},
   "outputs": [],
   "source": [
    "def color_pieces(pieces):\n",
    "    colored_pieces = [(i+1) * p for i, p in enumerate(pieces)]\n",
    "    colors = [(0, 0, 0)]\n",
    "    mult = (5**0.5 + 1) / 2\n",
    "    h = np.random.random()\n",
    "    color = colorsys.hsv_to_rgb(h, 0.5, 0.95)\n",
    "    colors.append(color)\n",
    "    while len(colors) <= len(pieces):\n",
    "        h += mult\n",
    "        h %= 1\n",
    "        color = colorsys.hsv_to_rgb(h, 0.5, 0.95)\n",
    "        colors.append(color)\n",
    "    return colored_pieces, colors"
   ]
  },
  {
   "cell_type": "code",
   "execution_count": 6,
   "metadata": {},
   "outputs": [],
   "source": [
    "def area(piece):\n",
    "    return piece.astype(np.bool).sum()\n",
    "\n",
    "def rotate(piece, change):\n",
    "    change = change % 4\n",
    "    if change == 0:\n",
    "        return piece\n",
    "    elif change == 1:\n",
    "        return np.rot90(piece)\n",
    "    elif change == 2:\n",
    "        return np.rot90(piece, 2)\n",
    "    elif change == 3:\n",
    "        return np.rot90(piece, axes=(1, 0))\n",
    "\n",
    "def test_piece_location(field, piece, row, column, place=False):\n",
    "    if piece.shape[0] + row > field.shape[0]:\n",
    "        return False\n",
    "    if piece.shape[1] + column > field.shape[1]:\n",
    "        return False\n",
    "    field_slice = field[\n",
    "        row: row + piece.shape[0],\n",
    "        column: column + piece.shape[1]\n",
    "    ]\n",
    "    # print(field_slice * piece)\n",
    "    result = ~np.any(field_slice * piece)\n",
    "    if result and place:\n",
    "        field_slice += piece\n",
    "    return result\n",
    "\n",
    "def greedy_place_piece(field, piece):\n",
    "    for row in range(field.shape[0] - piece.shape[0] + 1):\n",
    "        for column in range(field.shape[1] - piece.shape[1] + 1):\n",
    "            if test_piece_location(field, piece, row, column, place=True):\n",
    "                return True\n",
    "    return False"
   ]
  },
  {
   "cell_type": "code",
   "execution_count": 7,
   "metadata": {},
   "outputs": [],
   "source": [
    "class SimpleGA(object):\n",
    "    \n",
    "    def __init__(self, \n",
    "                 shape, \n",
    "                 pieces, \n",
    "                 pop_size,\n",
    "                 n_offsprings,\n",
    "                 p_mutation=0.03,\n",
    "                 n_generations=1000,\n",
    "                 crossover='cycle',\n",
    "                 color_map=None,\n",
    "                 picture_step=10,\n",
    "                 survivors=2,\n",
    "                 retirement_policy='keep'\n",
    "                ):\n",
    "        self.shape = shape\n",
    "        self.pieces = pieces\n",
    "        self.pop_size = pop_size\n",
    "        self.population, self.fitnesses, self.matrices = self.gen_init_population(len(pieces), pop_size)\n",
    "        self.n_offsprings = n_offsprings\n",
    "        self.p_mutation = p_mutation\n",
    "        self.n_generations = n_generations\n",
    "        self.color_map = color_map\n",
    "        self.picture_step = picture_step\n",
    "        crossover_methods = {\n",
    "            'order': self.order_crossover,\n",
    "            'cycle': self.cycle_crossover\n",
    "        }\n",
    "        if crossover not in crossover_methods:\n",
    "            raise ValueError(\"unsupported crossover method\")\n",
    "        fittest_selection = {\n",
    "            'keep': self.select_fittest_with_merge,\n",
    "            'quota': self.select_fittest_with_quota\n",
    "        }\n",
    "        if retirement_policy not in fittest_selection:\n",
    "            raise ValueError(\"unknown retirement policy\")\n",
    "        self.select_fittest = fittest_selection[retirement_policy]\n",
    "        self.crossover = crossover_methods[crossover]\n",
    "        self.survivors = survivors\n",
    "    \n",
    "    def gen_init_population(self, n_pieces, pop_size):\n",
    "        population = []\n",
    "        fitnesses = []\n",
    "        matrices = []\n",
    "        for i in range(pop_size):\n",
    "            individual = np.array([\n",
    "                np.random.permutation(n_pieces),\n",
    "                np.random.randint(0, 4, n_pieces)\n",
    "            ])\n",
    "            population.append(individual)\n",
    "            fitness, field = self.greedy_placement(individual)\n",
    "            fitnesses.append(fitness)\n",
    "            matrices.append(field)\n",
    "        return population, fitnesses, matrices\n",
    "    \n",
    "    def order_crossover(self, parent_1, parent_2):\n",
    "        copy_begin, copy_end = np.random.choice(parent_1.shape[1], size=2, replace=False)\n",
    "        if copy_end < copy_begin:\n",
    "            copy_begin, copy_end = copy_end, copy_begin\n",
    "        child_1 = -np.ones_like(parent_1)\n",
    "        child_2 = -np.ones_like(parent_1)\n",
    "        child_1[:, copy_begin:copy_end + 1] = parent_1[:, copy_begin:copy_end + 1]\n",
    "        child_2[:, copy_begin:copy_end + 1] = parent_2[:, copy_begin:copy_end + 1]\n",
    "        copied_indexes_1 = set(parent_1[0, copy_begin:copy_end + 1])\n",
    "        copied_indexes_2 = set(parent_2[0, copy_begin:copy_end + 1])\n",
    "        self._copy_remaining_genes(parent_2, child_1, copied_indexes_1, copy_begin, copy_end)\n",
    "        self._copy_remaining_genes(parent_1, child_2, copied_indexes_2, copy_begin, copy_end)\n",
    "        return child_1, child_2\n",
    "        \n",
    "    def _copy_remaining_genes(self, parent, child, used_indexes, copy_begin, copy_end):\n",
    "        child_index = 0\n",
    "        # print(copy_begin, copy_end)\n",
    "        # print(used_indexes)\n",
    "        for parent_index in range(parent.shape[1]):\n",
    "            if copy_begin <= child_index <= copy_end:\n",
    "                child_index += copy_end - copy_begin + 1\n",
    "            if parent[0, parent_index] not in used_indexes:\n",
    "                child[:, child_index] = parent[:, parent_index]\n",
    "                child_index += 1\n",
    "        return None\n",
    "    \n",
    "    def cycle_crossover(self, parent_1, parent_2):\n",
    "        parent_1_inverse = np.argsort(parent_1[0])\n",
    "        mask = -np.ones_like(parent_1[0])\n",
    "        cycle_index = 0\n",
    "        for index in range(parent_1.shape[1]):\n",
    "            if mask[index] < 0:\n",
    "                cycle_start = index\n",
    "                next_index = parent_1_inverse[parent_2[0, cycle_start]]\n",
    "                mask[next_index] = cycle_index\n",
    "                while next_index != cycle_start:\n",
    "                    next_index = parent_1_inverse[parent_2[0, next_index]]\n",
    "                    mask[next_index] = cycle_index\n",
    "                cycle_index += 1\n",
    "        child_1 = -np.ones_like(parent_1)\n",
    "        child_2 = -np.ones_like(parent_1)\n",
    "        bool_mask = ~(mask % 2).astype(np.bool)\n",
    "        child_1[:, bool_mask] = parent_1[:, bool_mask]\n",
    "        child_1[:, ~bool_mask] = parent_2[:, ~bool_mask]\n",
    "        child_2[:, bool_mask] = parent_2[:, bool_mask]\n",
    "        child_2[:, ~bool_mask] = parent_1[:, ~bool_mask]\n",
    "        return child_1, child_2\n",
    "    \n",
    "    def mutate(self, individual):\n",
    "        # swaping two genes\n",
    "        if np.random.random() < self.p_mutation:\n",
    "            x, y = np.random.choice(individual.shape[1], size=2, replace=False)\n",
    "            tmp = individual[:, x].copy()\n",
    "            individual[:, x] = individual[:, y]\n",
    "            individual[:, y] = tmp\n",
    "        # randomly changing rotations\n",
    "        else:\n",
    "            mask = np.random.random(individual.shape[1]) < self.p_mutation\n",
    "            individual[1, mask] = np.random.randint(0, 4, np.sum(mask))\n",
    "        return individual\n",
    "    \n",
    "    def greedy_placement(self, individual):\n",
    "        field = np.zeros(self.shape, dtype=np.int32)\n",
    "        covered_area = 0\n",
    "        for piece_index, rotation in individual.T:\n",
    "            rotated_piece = rotate(self.pieces[piece_index], rotation)\n",
    "            if not greedy_place_piece(field, rotated_piece):\n",
    "                break\n",
    "            else:\n",
    "                covered_area += area(rotated_piece)\n",
    "        return covered_area, field\n",
    "    \n",
    "    def select_parents(self, fitnesses=None):\n",
    "        if fitnesses is None:\n",
    "            fitnesses = self.fitnesses\n",
    "        total_fitness = np.sum(fitnesses)\n",
    "        parent_index_1, parent_index_2 = np.random.choice(\n",
    "            len(self.population), \n",
    "            size=2, \n",
    "            replace=False, \n",
    "            p=fitnesses / total_fitness\n",
    "        )\n",
    "        return parent_index_1, parent_index_2\n",
    "        \n",
    "    def generate_offsprings(self):\n",
    "        offsprings = []\n",
    "        offsprings_fitness = []\n",
    "        offspring_matrices = []\n",
    "        while len(offsprings) < self.n_offsprings:\n",
    "            parent_index_1, parent_index_2 = self.select_parents()\n",
    "            children = self.crossover(\n",
    "                self.population[parent_index_1],\n",
    "                self.population[parent_index_2],\n",
    "            )\n",
    "            children = [self.mutate(child) for child in children]\n",
    "            offsprings += children\n",
    "            for child in children:\n",
    "                fitness, matrix = self.greedy_placement(child)\n",
    "                offsprings_fitness.append(fitness)\n",
    "                offspring_matrices.append(matrix)\n",
    "        return offsprings, offsprings_fitness, offspring_matrices\n",
    "    \n",
    "    def select_fittest_with_merge(self, offsprings, offsprings_fitness, offspring_matrices):\n",
    "        self.population += offsprings\n",
    "        self.fitnesses += offsprings_fitness\n",
    "        self.matrices += offspring_matrices\n",
    "        top_indexes = np.argsort(self.fitnesses)[::-1][:self.pop_size]\n",
    "        self.population = [self.population[i] for i in top_indexes]\n",
    "        self.fitnesses = [self.fitnesses[i] for i in top_indexes]\n",
    "        self.matrices = [self.matrices[i] for i in top_indexes]\n",
    "        self.best_index = 0\n",
    "    \n",
    "    def select_fittest_with_quota(self, offsprings, offsprings_fitness, offspring_matrices):\n",
    "        old_top_indexes = np.argsort(self.fitnesses)[::-1][:self.survivors]\n",
    "        new_top_indexes = np.argsort(offsprings_fitness)[::-1][:self.pop_size - self.survivors]\n",
    "       \n",
    "        self.population = [self.population[i] for i in old_top_indexes] + \\\n",
    "            [offsprings[i] for i in new_top_indexes]\n",
    "        self.fitnesses = [self.fitnesses[i] for i in old_top_indexes] + \\\n",
    "            [offsprings_fitness[i] for i in new_top_indexes]\n",
    "        self.matrices = [self.matrices[i] for i in old_top_indexes] + \\\n",
    "            [offspring_matrices[i] for i in new_top_indexes]\n",
    "        self.best_index = np.argmax(self.fitnesses)\n",
    "    \n",
    "    def run(self, generations=None):\n",
    "        if generations is None:\n",
    "            generations = self.n_generations\n",
    "        for generation in range(1, generations):\n",
    "            timeit_start = timer()\n",
    "            offsprings, offsprings_fitness, offspring_matrices = self.generate_offsprings()\n",
    "            self.select_fittest(offsprings, offsprings_fitness, offspring_matrices)\n",
    "            timeit_end = timer()\n",
    "            print(\"generation %s created in %0.3f seconds\" % (generation, timeit_end - timeit_start))\n",
    "            print(\"best result: %s, pop_size: %s\" % (self.fitnesses[self.best_index], len(self.population)))\n",
    "            if (self.color_map is not None and \n",
    "                (generation % self.picture_step == 0 or generation + 1 == generations)):\n",
    "                draw_matrix(self.matrices[self.best_index], self.color_map, self.shape)\n",
    "        "
   ]
  },
  {
   "cell_type": "code",
   "execution_count": 11,
   "metadata": {},
   "outputs": [],
   "source": [
    "def draw_matrix(matrix, color_map, shape):\n",
    "    fig1 = plt.figure(figsize=(20,10))\n",
    "    ax1 = fig1.add_subplot(111, aspect='equal')\n",
    "    for y, row in enumerate(matrix):\n",
    "        for x, val in enumerate(row):\n",
    "            ax1.add_patch(patches.Rectangle((x, y), 1, 1, color=color_map[val]))\n",
    "    plt.xlim(0, shape[1])\n",
    "    plt.ylim(0, shape[0])\n",
    "    plt.show()"
   ]
  },
  {
   "cell_type": "code",
   "execution_count": 4,
   "metadata": {},
   "outputs": [],
   "source": [
    "test_pieces = load_pieces('test_pieces.txt')"
   ]
  },
  {
   "cell_type": "code",
   "execution_count": 12,
   "metadata": {},
   "outputs": [
    {
     "name": "stdout",
     "output_type": "stream",
     "text": [
      "290\n"
     ]
    }
   ],
   "source": [
    "total_area = np.sum([area(p) for p in test_pieces])\n",
    "print(total_area)"
   ]
  },
  {
   "cell_type": "code",
   "execution_count": 13,
   "metadata": {
    "scrolled": true
   },
   "outputs": [
    {
     "name": "stdout",
     "output_type": "stream",
     "text": [
      "generation 1 created in 0.968 seconds\n",
      "best result: 230, pop_size: 200\n",
      "generation 2 created in 1.388 seconds\n",
      "best result: 237, pop_size: 200\n",
      "generation 3 created in 1.478 seconds\n",
      "best result: 242, pop_size: 200\n",
      "generation 4 created in 1.791 seconds\n",
      "best result: 247, pop_size: 200\n",
      "generation 5 created in 1.945 seconds\n",
      "best result: 247, pop_size: 200\n",
      "generation 6 created in 2.004 seconds\n",
      "best result: 247, pop_size: 200\n",
      "generation 7 created in 2.204 seconds\n",
      "best result: 262, pop_size: 200\n",
      "generation 8 created in 2.315 seconds\n",
      "best result: 262, pop_size: 200\n",
      "generation 9 created in 2.384 seconds\n",
      "best result: 262, pop_size: 200\n",
      "generation 10 created in 2.485 seconds\n",
      "best result: 262, pop_size: 200\n"
     ]
    },
    {
     "data": {
      "image/png": "[encoded data removed]",
      "text/plain": [
       "<Figure size 1440x720 with 1 Axes>"
      ]
     },
     "metadata": {
      "needs_background": "light"
     },
     "output_type": "display_data"
    },
    {
     "name": "stdout",
     "output_type": "stream",
     "text": [
      "generation 11 created in 2.891 seconds\n",
      "best result: 262, pop_size: 200\n",
      "generation 12 created in 2.888 seconds\n",
      "best result: 262, pop_size: 200\n",
      "generation 13 created in 2.846 seconds\n",
      "best result: 262, pop_size: 200\n",
      "generation 14 created in 2.917 seconds\n",
      "best result: 262, pop_size: 200\n",
      "generation 15 created in 2.953 seconds\n",
      "best result: 262, pop_size: 200\n",
      "generation 16 created in 3.152 seconds\n",
      "best result: 262, pop_size: 200\n",
      "generation 17 created in 3.020 seconds\n",
      "best result: 262, pop_size: 200\n",
      "generation 18 created in 3.189 seconds\n",
      "best result: 262, pop_size: 200\n",
      "generation 19 created in 3.030 seconds\n",
      "best result: 262, pop_size: 200\n",
      "generation 20 created in 3.086 seconds\n",
      "best result: 262, pop_size: 200\n"
     ]
    },
    {
     "data": {
      "image/png": "[encoded data removed]",
      "text/plain": [
       "<Figure size 1440x720 with 1 Axes>"
      ]
     },
     "metadata": {
      "needs_background": "light"
     },
     "output_type": "display_data"
    },
    {
     "name": "stdout",
     "output_type": "stream",
     "text": [
      "generation 21 created in 3.122 seconds\n",
      "best result: 262, pop_size: 200\n",
      "generation 22 created in 2.960 seconds\n",
      "best result: 262, pop_size: 200\n",
      "generation 23 created in 3.429 seconds\n",
      "best result: 266, pop_size: 200\n",
      "generation 24 created in 3.209 seconds\n",
      "best result: 266, pop_size: 200\n",
      "generation 25 created in 3.467 seconds\n",
      "best result: 266, pop_size: 200\n",
      "generation 26 created in 3.312 seconds\n",
      "best result: 266, pop_size: 200\n",
      "generation 27 created in 3.219 seconds\n",
      "best result: 266, pop_size: 200\n",
      "generation 28 created in 3.163 seconds\n",
      "best result: 266, pop_size: 200\n",
      "generation 29 created in 3.157 seconds\n",
      "best result: 266, pop_size: 200\n",
      "generation 30 created in 3.263 seconds\n",
      "best result: 266, pop_size: 200\n"
     ]
    },
    {
     "data": {
      "image/png": "[encoded data removed]",
      "text/plain": [
       "<Figure size 1440x720 with 1 Axes>"
      ]
     },
     "metadata": {
      "needs_background": "light"
     },
     "output_type": "display_data"
    },
    {
     "name": "stdout",
     "output_type": "stream",
     "text": [
      "generation 31 created in 3.073 seconds\n",
      "best result: 266, pop_size: 200\n",
      "generation 32 created in 3.211 seconds\n",
      "best result: 271, pop_size: 200\n",
      "generation 33 created in 3.184 seconds\n",
      "best result: 271, pop_size: 200\n",
      "generation 34 created in 3.529 seconds\n",
      "best result: 271, pop_size: 200\n",
      "generation 35 created in 3.706 seconds\n",
      "best result: 271, pop_size: 200\n",
      "generation 36 created in 3.688 seconds\n",
      "best result: 271, pop_size: 200\n",
      "generation 37 created in 3.697 seconds\n",
      "best result: 271, pop_size: 200\n",
      "generation 38 created in 3.644 seconds\n",
      "best result: 271, pop_size: 200\n",
      "generation 39 created in 3.777 seconds\n",
      "best result: 271, pop_size: 200\n",
      "generation 40 created in 3.685 seconds\n",
      "best result: 271, pop_size: 200\n"
     ]
    },
    {
     "data": {
      "image/png": "[encoded data removed]",
      "text/plain": [
       "<Figure size 1440x720 with 1 Axes>"
      ]
     },
     "metadata": {
      "needs_background": "light"
     },
     "output_type": "display_data"
    },
    {
     "name": "stdout",
     "output_type": "stream",
     "text": [
      "generation 41 created in 3.665 seconds\n",
      "best result: 271, pop_size: 200\n",
      "generation 42 created in 3.897 seconds\n",
      "best result: 271, pop_size: 200\n",
      "generation 43 created in 3.862 seconds\n",
      "best result: 271, pop_size: 200\n",
      "generation 44 created in 3.759 seconds\n",
      "best result: 271, pop_size: 200\n",
      "generation 45 created in 3.499 seconds\n",
      "best result: 271, pop_size: 200\n",
      "generation 46 created in 3.683 seconds\n",
      "best result: 271, pop_size: 200\n",
      "generation 47 created in 3.621 seconds\n",
      "best result: 275, pop_size: 200\n",
      "generation 48 created in 3.775 seconds\n",
      "best result: 275, pop_size: 200\n",
      "generation 49 created in 3.494 seconds\n",
      "best result: 275, pop_size: 200\n",
      "generation 50 created in 3.612 seconds\n",
      "best result: 276, pop_size: 200\n"
     ]
    },
    {
     "data": {
      "image/png": "[encoded data removed]",
      "text/plain": [
       "<Figure size 1440x720 with 1 Axes>"
      ]
     },
     "metadata": {
      "needs_background": "light"
     },
     "output_type": "display_data"
    },
    {
     "name": "stdout",
     "output_type": "stream",
     "text": [
      "generation 51 created in 3.903 seconds\n",
      "best result: 276, pop_size: 200\n",
      "generation 52 created in 4.093 seconds\n",
      "best result: 276, pop_size: 200\n",
      "generation 53 created in 3.969 seconds\n",
      "best result: 276, pop_size: 200\n",
      "generation 54 created in 3.870 seconds\n",
      "best result: 276, pop_size: 200\n",
      "generation 55 created in 4.024 seconds\n",
      "best result: 276, pop_size: 200\n",
      "generation 56 created in 4.152 seconds\n",
      "best result: 276, pop_size: 200\n",
      "generation 57 created in 4.140 seconds\n",
      "best result: 276, pop_size: 200\n",
      "generation 58 created in 3.823 seconds\n",
      "best result: 276, pop_size: 200\n",
      "generation 59 created in 4.028 seconds\n",
      "best result: 276, pop_size: 200\n",
      "generation 60 created in 4.256 seconds\n",
      "best result: 276, pop_size: 200\n"
     ]
    },
    {
     "data": {
      "image/png": "[encoded data removed]",
      "text/plain": [
       "<Figure size 1440x720 with 1 Axes>"
      ]
     },
     "metadata": {
      "needs_background": "light"
     },
     "output_type": "display_data"
    },
    {
     "name": "stdout",
     "output_type": "stream",
     "text": [
      "generation 61 created in 3.904 seconds\n",
      "best result: 276, pop_size: 200\n",
      "generation 62 created in 3.857 seconds\n",
      "best result: 276, pop_size: 200\n",
      "generation 63 created in 3.871 seconds\n",
      "best result: 276, pop_size: 200\n",
      "generation 64 created in 3.915 seconds\n",
      "best result: 276, pop_size: 200\n",
      "generation 65 created in 4.288 seconds\n",
      "best result: 276, pop_size: 200\n",
      "generation 66 created in 4.305 seconds\n",
      "best result: 276, pop_size: 200\n",
      "generation 67 created in 4.193 seconds\n",
      "best result: 276, pop_size: 200\n",
      "generation 68 created in 4.298 seconds\n",
      "best result: 276, pop_size: 200\n",
      "generation 69 created in 4.085 seconds\n",
      "best result: 276, pop_size: 200\n",
      "generation 70 created in 4.120 seconds\n",
      "best result: 276, pop_size: 200\n"
     ]
    },
    {
     "data": {
      "image/png": "[encoded data removed]",
      "text/plain": [
       "<Figure size 1440x720 with 1 Axes>"
      ]
     },
     "metadata": {
      "needs_background": "light"
     },
     "output_type": "display_data"
    },
    {
     "name": "stdout",
     "output_type": "stream",
     "text": [
      "generation 71 created in 4.445 seconds\n",
      "best result: 276, pop_size: 200\n",
      "generation 72 created in 4.413 seconds\n",
      "best result: 276, pop_size: 200\n",
      "generation 73 created in 4.280 seconds\n",
      "best result: 276, pop_size: 200\n",
      "generation 74 created in 3.863 seconds\n",
      "best result: 276, pop_size: 200\n",
      "generation 75 created in 4.300 seconds\n",
      "best result: 276, pop_size: 200\n",
      "generation 76 created in 3.874 seconds\n",
      "best result: 276, pop_size: 200\n",
      "generation 77 created in 4.040 seconds\n",
      "best result: 276, pop_size: 200\n",
      "generation 78 created in 4.219 seconds\n",
      "best result: 276, pop_size: 200\n",
      "generation 79 created in 4.200 seconds\n",
      "best result: 276, pop_size: 200\n",
      "generation 80 created in 4.257 seconds\n",
      "best result: 276, pop_size: 200\n"
     ]
    },
    {
     "data": {
      "image/png": "[encoded data removed]",
      "text/plain": [
       "<Figure size 1440x720 with 1 Axes>"
      ]
     },
     "metadata": {
      "needs_background": "light"
     },
     "output_type": "display_data"
    },
    {
     "name": "stdout",
     "output_type": "stream",
     "text": [
      "generation 81 created in 4.110 seconds\n",
      "best result: 276, pop_size: 200\n",
      "generation 82 created in 4.131 seconds\n",
      "best result: 276, pop_size: 200\n",
      "generation 83 created in 4.316 seconds\n",
      "best result: 276, pop_size: 200\n",
      "generation 84 created in 3.953 seconds\n",
      "best result: 276, pop_size: 200\n",
      "generation 85 created in 4.332 seconds\n",
      "best result: 276, pop_size: 200\n",
      "generation 86 created in 4.034 seconds\n",
      "best result: 276, pop_size: 200\n",
      "generation 87 created in 3.774 seconds\n",
      "best result: 276, pop_size: 200\n",
      "generation 88 created in 4.244 seconds\n",
      "best result: 276, pop_size: 200\n",
      "generation 89 created in 4.233 seconds\n",
      "best result: 276, pop_size: 200\n",
      "generation 90 created in 4.291 seconds\n",
      "best result: 277, pop_size: 200\n"
     ]
    },
    {
     "data": {
      "image/png": "[encoded data removed]",
      "text/plain": [
       "<Figure size 1440x720 with 1 Axes>"
      ]
     },
     "metadata": {
      "needs_background": "light"
     },
     "output_type": "display_data"
    },
    {
     "name": "stdout",
     "output_type": "stream",
     "text": [
      "generation 91 created in 4.198 seconds\n",
      "best result: 277, pop_size: 200\n",
      "generation 92 created in 3.878 seconds\n",
      "best result: 277, pop_size: 200\n",
      "generation 93 created in 4.014 seconds\n",
      "best result: 277, pop_size: 200\n",
      "generation 94 created in 4.205 seconds\n",
      "best result: 277, pop_size: 200\n",
      "generation 95 created in 4.152 seconds\n",
      "best result: 277, pop_size: 200\n",
      "generation 96 created in 4.334 seconds\n",
      "best result: 277, pop_size: 200\n",
      "generation 97 created in 4.262 seconds\n",
      "best result: 277, pop_size: 200\n",
      "generation 98 created in 4.443 seconds\n",
      "best result: 277, pop_size: 200\n",
      "generation 99 created in 4.192 seconds\n",
      "best result: 277, pop_size: 200\n"
     ]
    },
    {
     "data": {
      "image/png": "[encoded data removed]",
      "text/plain": [
       "<Figure size 1440x720 with 1 Axes>"
      ]
     },
     "metadata": {
      "needs_background": "light"
     },
     "output_type": "display_data"
    }
   ],
   "source": [
    "colored_pieces, color_map = color_pieces(test_pieces)\n",
    "np.random.seed(1543)\n",
    "ga = SimpleGA(\n",
    "    [6, 49],\n",
    "    colored_pieces,\n",
    "    pop_size=200,\n",
    "    n_offsprings=200,\n",
    "    n_generations=100,\n",
    "    color_map=color_map,\n",
    "    crossover='cycle',\n",
    "    retirement_policy='keep'\n",
    ")\n",
    "ga.run()"
   ]
  },
  {
   "cell_type": "code",
   "execution_count": 14,
   "metadata": {
    "scrolled": true
   },
   "outputs": [
    {
     "name": "stdout",
     "output_type": "stream",
     "text": [
      "generation 1 created in 1.014 seconds\n",
      "best result: 231, pop_size: 200\n",
      "generation 2 created in 1.216 seconds\n",
      "best result: 240, pop_size: 200\n",
      "generation 3 created in 1.418 seconds\n",
      "best result: 242, pop_size: 200\n",
      "generation 4 created in 1.601 seconds\n",
      "best result: 242, pop_size: 200\n",
      "generation 5 created in 1.762 seconds\n",
      "best result: 242, pop_size: 200\n",
      "generation 6 created in 2.160 seconds\n",
      "best result: 246, pop_size: 200\n",
      "generation 7 created in 2.102 seconds\n",
      "best result: 246, pop_size: 200\n",
      "generation 8 created in 2.207 seconds\n",
      "best result: 254, pop_size: 200\n",
      "generation 9 created in 2.154 seconds\n",
      "best result: 254, pop_size: 200\n",
      "generation 10 created in 2.334 seconds\n",
      "best result: 254, pop_size: 200\n"
     ]
    },
    {
     "data": {
      "image/png": "[encoded data removed]",
      "text/plain": [
       "<Figure size 1440x720 with 1 Axes>"
      ]
     },
     "metadata": {
      "needs_background": "light"
     },
     "output_type": "display_data"
    },
    {
     "name": "stdout",
     "output_type": "stream",
     "text": [
      "generation 11 created in 2.169 seconds\n",
      "best result: 254, pop_size: 200\n",
      "generation 12 created in 2.162 seconds\n",
      "best result: 254, pop_size: 200\n",
      "generation 13 created in 2.885 seconds\n",
      "best result: 254, pop_size: 200\n",
      "generation 14 created in 2.543 seconds\n",
      "best result: 254, pop_size: 200\n",
      "generation 15 created in 2.166 seconds\n",
      "best result: 267, pop_size: 200\n",
      "generation 16 created in 2.642 seconds\n",
      "best result: 267, pop_size: 200\n",
      "generation 17 created in 2.602 seconds\n",
      "best result: 267, pop_size: 200\n",
      "generation 18 created in 2.762 seconds\n",
      "best result: 267, pop_size: 200\n",
      "generation 19 created in 2.666 seconds\n",
      "best result: 267, pop_size: 200\n",
      "generation 20 created in 2.686 seconds\n",
      "best result: 267, pop_size: 200\n"
     ]
    },
    {
     "data": {
      "image/png": "[encoded data removed]",
      "text/plain": [
       "<Figure size 1440x720 with 1 Axes>"
      ]
     },
     "metadata": {
      "needs_background": "light"
     },
     "output_type": "display_data"
    },
    {
     "name": "stdout",
     "output_type": "stream",
     "text": [
      "generation 21 created in 2.756 seconds\n",
      "best result: 267, pop_size: 200\n",
      "generation 22 created in 2.744 seconds\n",
      "best result: 267, pop_size: 200\n",
      "generation 23 created in 2.822 seconds\n",
      "best result: 267, pop_size: 200\n",
      "generation 24 created in 2.623 seconds\n",
      "best result: 267, pop_size: 200\n",
      "generation 25 created in 2.687 seconds\n",
      "best result: 267, pop_size: 200\n",
      "generation 26 created in 2.849 seconds\n",
      "best result: 267, pop_size: 200\n",
      "generation 27 created in 3.094 seconds\n",
      "best result: 267, pop_size: 200\n",
      "generation 28 created in 2.768 seconds\n",
      "best result: 267, pop_size: 200\n",
      "generation 29 created in 2.998 seconds\n",
      "best result: 267, pop_size: 200\n",
      "generation 30 created in 2.801 seconds\n",
      "best result: 267, pop_size: 200\n"
     ]
    },
    {
     "data": {
      "image/png": "[encoded data removed]",
      "text/plain": [
       "<Figure size 1440x720 with 1 Axes>"
      ]
     },
     "metadata": {
      "needs_background": "light"
     },
     "output_type": "display_data"
    },
    {
     "name": "stdout",
     "output_type": "stream",
     "text": [
      "generation 31 created in 2.769 seconds\n",
      "best result: 267, pop_size: 200\n",
      "generation 32 created in 3.072 seconds\n",
      "best result: 267, pop_size: 200\n",
      "generation 33 created in 2.889 seconds\n",
      "best result: 267, pop_size: 200\n",
      "generation 34 created in 2.996 seconds\n",
      "best result: 267, pop_size: 200\n",
      "generation 35 created in 2.765 seconds\n",
      "best result: 267, pop_size: 200\n",
      "generation 36 created in 2.932 seconds\n",
      "best result: 267, pop_size: 200\n",
      "generation 37 created in 2.841 seconds\n",
      "best result: 267, pop_size: 200\n",
      "generation 38 created in 3.041 seconds\n",
      "best result: 270, pop_size: 200\n",
      "generation 39 created in 2.828 seconds\n",
      "best result: 270, pop_size: 200\n",
      "generation 40 created in 2.667 seconds\n",
      "best result: 270, pop_size: 200\n"
     ]
    },
    {
     "data": {
      "image/png": "[encoded data removed]",
      "text/plain": [
       "<Figure size 1440x720 with 1 Axes>"
      ]
     },
     "metadata": {
      "needs_background": "light"
     },
     "output_type": "display_data"
    },
    {
     "name": "stdout",
     "output_type": "stream",
     "text": [
      "generation 41 created in 2.784 seconds\n",
      "best result: 270, pop_size: 200\n",
      "generation 42 created in 2.839 seconds\n",
      "best result: 270, pop_size: 200\n",
      "generation 43 created in 2.783 seconds\n",
      "best result: 270, pop_size: 200\n",
      "generation 44 created in 2.802 seconds\n",
      "best result: 270, pop_size: 200\n",
      "generation 45 created in 2.699 seconds\n",
      "best result: 270, pop_size: 200\n",
      "generation 46 created in 2.804 seconds\n",
      "best result: 270, pop_size: 200\n",
      "generation 47 created in 2.622 seconds\n",
      "best result: 270, pop_size: 200\n",
      "generation 48 created in 2.885 seconds\n",
      "best result: 270, pop_size: 200\n",
      "generation 49 created in 2.971 seconds\n",
      "best result: 276, pop_size: 200\n",
      "generation 50 created in 2.949 seconds\n",
      "best result: 276, pop_size: 200\n"
     ]
    },
    {
     "data": {
      "image/png": "[encoded data removed]",
      "text/plain": [
       "<Figure size 1440x720 with 1 Axes>"
      ]
     },
     "metadata": {
      "needs_background": "light"
     },
     "output_type": "display_data"
    },
    {
     "name": "stdout",
     "output_type": "stream",
     "text": [
      "generation 51 created in 3.117 seconds\n",
      "best result: 276, pop_size: 200\n",
      "generation 52 created in 2.937 seconds\n",
      "best result: 276, pop_size: 200\n",
      "generation 53 created in 2.870 seconds\n",
      "best result: 276, pop_size: 200\n",
      "generation 54 created in 3.028 seconds\n",
      "best result: 276, pop_size: 200\n",
      "generation 55 created in 2.795 seconds\n",
      "best result: 276, pop_size: 200\n",
      "generation 56 created in 2.747 seconds\n",
      "best result: 276, pop_size: 200\n",
      "generation 57 created in 2.915 seconds\n",
      "best result: 276, pop_size: 200\n",
      "generation 58 created in 2.786 seconds\n",
      "best result: 276, pop_size: 200\n",
      "generation 59 created in 2.568 seconds\n",
      "best result: 276, pop_size: 200\n",
      "generation 60 created in 2.547 seconds\n",
      "best result: 276, pop_size: 200\n"
     ]
    },
    {
     "data": {
      "image/png": "[encoded data removed]",
      "text/plain": [
       "<Figure size 1440x720 with 1 Axes>"
      ]
     },
     "metadata": {
      "needs_background": "light"
     },
     "output_type": "display_data"
    },
    {
     "name": "stdout",
     "output_type": "stream",
     "text": [
      "generation 61 created in 2.747 seconds\n",
      "best result: 276, pop_size: 200\n",
      "generation 62 created in 2.981 seconds\n",
      "best result: 276, pop_size: 200\n",
      "generation 63 created in 3.442 seconds\n",
      "best result: 276, pop_size: 200\n",
      "generation 64 created in 3.216 seconds\n",
      "best result: 276, pop_size: 200\n",
      "generation 65 created in 2.931 seconds\n",
      "best result: 276, pop_size: 200\n",
      "generation 66 created in 2.828 seconds\n",
      "best result: 276, pop_size: 200\n",
      "generation 67 created in 3.132 seconds\n",
      "best result: 276, pop_size: 200\n",
      "generation 68 created in 3.114 seconds\n",
      "best result: 276, pop_size: 200\n",
      "generation 69 created in 2.962 seconds\n",
      "best result: 276, pop_size: 200\n",
      "generation 70 created in 3.057 seconds\n",
      "best result: 276, pop_size: 200\n"
     ]
    },
    {
     "data": {
      "image/png": "[encoded data removed]",
      "text/plain": [
       "<Figure size 1440x720 with 1 Axes>"
      ]
     },
     "metadata": {
      "needs_background": "light"
     },
     "output_type": "display_data"
    },
    {
     "name": "stdout",
     "output_type": "stream",
     "text": [
      "generation 71 created in 3.191 seconds\n",
      "best result: 276, pop_size: 200\n",
      "generation 72 created in 3.138 seconds\n",
      "best result: 276, pop_size: 200\n",
      "generation 73 created in 2.884 seconds\n",
      "best result: 276, pop_size: 200\n",
      "generation 74 created in 3.063 seconds\n",
      "best result: 276, pop_size: 200\n",
      "generation 75 created in 3.052 seconds\n",
      "best result: 276, pop_size: 200\n",
      "generation 76 created in 3.051 seconds\n",
      "best result: 276, pop_size: 200\n",
      "generation 77 created in 3.001 seconds\n",
      "best result: 276, pop_size: 200\n",
      "generation 78 created in 2.931 seconds\n",
      "best result: 276, pop_size: 200\n",
      "generation 79 created in 3.031 seconds\n",
      "best result: 276, pop_size: 200\n",
      "generation 80 created in 3.033 seconds\n",
      "best result: 276, pop_size: 200\n"
     ]
    },
    {
     "data": {
      "image/png": "[encoded data removed]",
      "text/plain": [
       "<Figure size 1440x720 with 1 Axes>"
      ]
     },
     "metadata": {
      "needs_background": "light"
     },
     "output_type": "display_data"
    },
    {
     "name": "stdout",
     "output_type": "stream",
     "text": [
      "generation 81 created in 2.953 seconds\n",
      "best result: 276, pop_size: 200\n",
      "generation 82 created in 3.193 seconds\n",
      "best result: 276, pop_size: 200\n",
      "generation 83 created in 3.247 seconds\n",
      "best result: 276, pop_size: 200\n",
      "generation 84 created in 3.251 seconds\n",
      "best result: 276, pop_size: 200\n",
      "generation 85 created in 3.044 seconds\n",
      "best result: 276, pop_size: 200\n",
      "generation 86 created in 3.141 seconds\n",
      "best result: 276, pop_size: 200\n",
      "generation 87 created in 3.421 seconds\n",
      "best result: 276, pop_size: 200\n",
      "generation 88 created in 3.357 seconds\n",
      "best result: 276, pop_size: 200\n",
      "generation 89 created in 3.537 seconds\n",
      "best result: 276, pop_size: 200\n",
      "generation 90 created in 3.442 seconds\n",
      "best result: 280, pop_size: 200\n"
     ]
    },
    {
     "data": {
      "image/png": "[encoded data removed]",
      "text/plain": [
       "<Figure size 1440x720 with 1 Axes>"
      ]
     },
     "metadata": {
      "needs_background": "light"
     },
     "output_type": "display_data"
    },
    {
     "name": "stdout",
     "output_type": "stream",
     "text": [
      "generation 91 created in 3.428 seconds\n",
      "best result: 280, pop_size: 200\n",
      "generation 92 created in 3.532 seconds\n",
      "best result: 280, pop_size: 200\n",
      "generation 93 created in 3.671 seconds\n",
      "best result: 280, pop_size: 200\n",
      "generation 94 created in 3.460 seconds\n",
      "best result: 280, pop_size: 200\n",
      "generation 95 created in 3.659 seconds\n",
      "best result: 280, pop_size: 200\n",
      "generation 96 created in 3.356 seconds\n",
      "best result: 280, pop_size: 200\n",
      "generation 97 created in 3.490 seconds\n",
      "best result: 280, pop_size: 200\n",
      "generation 98 created in 3.573 seconds\n",
      "best result: 280, pop_size: 200\n",
      "generation 99 created in 3.406 seconds\n",
      "best result: 280, pop_size: 200\n"
     ]
    },
    {
     "data": {
      "image/png": "[encoded data removed]",
      "text/plain": [
       "<Figure size 1440x720 with 1 Axes>"
      ]
     },
     "metadata": {
      "needs_background": "light"
     },
     "output_type": "display_data"
    }
   ],
   "source": [
    "colored_pieces, color_map = color_pieces(test_pieces)\n",
    "np.random.seed(1543)\n",
    "ga = SimpleGA(\n",
    "    [6, 49],\n",
    "    colored_pieces,\n",
    "    pop_size=200,\n",
    "    n_offsprings=200,\n",
    "    n_generations=100,\n",
    "    color_map=color_map,\n",
    "    crossover='order',\n",
    "    retirement_policy='keep'\n",
    ")\n",
    "ga.run()"
   ]
  },
  {
   "cell_type": "code",
   "execution_count": null,
   "metadata": {},
   "outputs": [],
   "source": []
  }
 ],
 "metadata": {
  "kernelspec": {
   "display_name": "Python 3",
   "language": "python",
   "name": "python3"
  },
  "language_info": {
   "codemirror_mode": {
    "name": "ipython",
    "version": 3
   },
   "file_extension": ".py",
   "mimetype": "text/x-python",
   "name": "python",
   "nbconvert_exporter": "python",
   "pygments_lexer": "ipython3",
   "version": "3.6.8"
  }
 },
 "nbformat": 4,
 "nbformat_minor": 2
}
